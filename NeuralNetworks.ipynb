{
  "nbformat": 4,
  "nbformat_minor": 0,
  "metadata": {
    "colab": {
      "provenance": [],
      "authorship_tag": "ABX9TyORzfsiYNDA8r8ntoOSjbTe",
      "include_colab_link": true
    },
    "kernelspec": {
      "name": "python3",
      "display_name": "Python 3"
    },
    "language_info": {
      "name": "python"
    }
  },
  "cells": [
    {
      "cell_type": "markdown",
      "metadata": {
        "id": "view-in-github",
        "colab_type": "text"
      },
      "source": [
        "<a href=\"https://colab.research.google.com/github/zey19/DeepLearning/blob/main/NeuralNetworks.ipynb\" target=\"_parent\"><img src=\"https://colab.research.google.com/assets/colab-badge.svg\" alt=\"Open In Colab\"/></a>"
      ]
    },
    {
      "cell_type": "code",
      "execution_count": null,
      "metadata": {
        "id": "yJCMj3QOdaQB"
      },
      "outputs": [],
      "source": [
        "from sklearn.datasets import fetch_openml\n",
        "from sklearn.model_selection import train_test_split\n",
        "\n",
        "X,y = fetch_openml('mnist_784', version = 1, return_X_y = True, as_frame= False)\n",
        "X= X/255.0\n",
        "\n",
        "X_train, X_test, y_train, y_test = train_test_split(X,y, random_state= 0, test_size = 0.7)"
      ]
    },
    {
      "cell_type": "code",
      "source": [
        "import pandas as pd \n",
        "\n",
        "data = pd.DataFrame(X)\n",
        "\n",
        "data.insert(784, 'label', y)\n",
        "data.head()"
      ],
      "metadata": {
        "colab": {
          "base_uri": "https://localhost:8080/",
          "height": 299
        },
        "id": "jyILpB30eS83",
        "outputId": "2fd86e73-c3be-4cf6-d315-65669a4a0487"
      },
      "execution_count": null,
      "outputs": [
        {
          "output_type": "execute_result",
          "data": {
            "text/plain": [
              "     0    1    2    3    4    5    6    7    8    9  ...  775  776  777  778  \\\n",
              "0  0.0  0.0  0.0  0.0  0.0  0.0  0.0  0.0  0.0  0.0  ...  0.0  0.0  0.0  0.0   \n",
              "1  0.0  0.0  0.0  0.0  0.0  0.0  0.0  0.0  0.0  0.0  ...  0.0  0.0  0.0  0.0   \n",
              "2  0.0  0.0  0.0  0.0  0.0  0.0  0.0  0.0  0.0  0.0  ...  0.0  0.0  0.0  0.0   \n",
              "3  0.0  0.0  0.0  0.0  0.0  0.0  0.0  0.0  0.0  0.0  ...  0.0  0.0  0.0  0.0   \n",
              "4  0.0  0.0  0.0  0.0  0.0  0.0  0.0  0.0  0.0  0.0  ...  0.0  0.0  0.0  0.0   \n",
              "\n",
              "   779  780  781  782  783  label  \n",
              "0  0.0  0.0  0.0  0.0  0.0      5  \n",
              "1  0.0  0.0  0.0  0.0  0.0      0  \n",
              "2  0.0  0.0  0.0  0.0  0.0      4  \n",
              "3  0.0  0.0  0.0  0.0  0.0      1  \n",
              "4  0.0  0.0  0.0  0.0  0.0      9  \n",
              "\n",
              "[5 rows x 785 columns]"
            ],
            "text/html": [
              "\n",
              "  <div id=\"df-8474ca5f-632b-47ce-a3df-1580f6c8f61f\">\n",
              "    <div class=\"colab-df-container\">\n",
              "      <div>\n",
              "<style scoped>\n",
              "    .dataframe tbody tr th:only-of-type {\n",
              "        vertical-align: middle;\n",
              "    }\n",
              "\n",
              "    .dataframe tbody tr th {\n",
              "        vertical-align: top;\n",
              "    }\n",
              "\n",
              "    .dataframe thead th {\n",
              "        text-align: right;\n",
              "    }\n",
              "</style>\n",
              "<table border=\"1\" class=\"dataframe\">\n",
              "  <thead>\n",
              "    <tr style=\"text-align: right;\">\n",
              "      <th></th>\n",
              "      <th>0</th>\n",
              "      <th>1</th>\n",
              "      <th>2</th>\n",
              "      <th>3</th>\n",
              "      <th>4</th>\n",
              "      <th>5</th>\n",
              "      <th>6</th>\n",
              "      <th>7</th>\n",
              "      <th>8</th>\n",
              "      <th>9</th>\n",
              "      <th>...</th>\n",
              "      <th>775</th>\n",
              "      <th>776</th>\n",
              "      <th>777</th>\n",
              "      <th>778</th>\n",
              "      <th>779</th>\n",
              "      <th>780</th>\n",
              "      <th>781</th>\n",
              "      <th>782</th>\n",
              "      <th>783</th>\n",
              "      <th>label</th>\n",
              "    </tr>\n",
              "  </thead>\n",
              "  <tbody>\n",
              "    <tr>\n",
              "      <th>0</th>\n",
              "      <td>0.0</td>\n",
              "      <td>0.0</td>\n",
              "      <td>0.0</td>\n",
              "      <td>0.0</td>\n",
              "      <td>0.0</td>\n",
              "      <td>0.0</td>\n",
              "      <td>0.0</td>\n",
              "      <td>0.0</td>\n",
              "      <td>0.0</td>\n",
              "      <td>0.0</td>\n",
              "      <td>...</td>\n",
              "      <td>0.0</td>\n",
              "      <td>0.0</td>\n",
              "      <td>0.0</td>\n",
              "      <td>0.0</td>\n",
              "      <td>0.0</td>\n",
              "      <td>0.0</td>\n",
              "      <td>0.0</td>\n",
              "      <td>0.0</td>\n",
              "      <td>0.0</td>\n",
              "      <td>5</td>\n",
              "    </tr>\n",
              "    <tr>\n",
              "      <th>1</th>\n",
              "      <td>0.0</td>\n",
              "      <td>0.0</td>\n",
              "      <td>0.0</td>\n",
              "      <td>0.0</td>\n",
              "      <td>0.0</td>\n",
              "      <td>0.0</td>\n",
              "      <td>0.0</td>\n",
              "      <td>0.0</td>\n",
              "      <td>0.0</td>\n",
              "      <td>0.0</td>\n",
              "      <td>...</td>\n",
              "      <td>0.0</td>\n",
              "      <td>0.0</td>\n",
              "      <td>0.0</td>\n",
              "      <td>0.0</td>\n",
              "      <td>0.0</td>\n",
              "      <td>0.0</td>\n",
              "      <td>0.0</td>\n",
              "      <td>0.0</td>\n",
              "      <td>0.0</td>\n",
              "      <td>0</td>\n",
              "    </tr>\n",
              "    <tr>\n",
              "      <th>2</th>\n",
              "      <td>0.0</td>\n",
              "      <td>0.0</td>\n",
              "      <td>0.0</td>\n",
              "      <td>0.0</td>\n",
              "      <td>0.0</td>\n",
              "      <td>0.0</td>\n",
              "      <td>0.0</td>\n",
              "      <td>0.0</td>\n",
              "      <td>0.0</td>\n",
              "      <td>0.0</td>\n",
              "      <td>...</td>\n",
              "      <td>0.0</td>\n",
              "      <td>0.0</td>\n",
              "      <td>0.0</td>\n",
              "      <td>0.0</td>\n",
              "      <td>0.0</td>\n",
              "      <td>0.0</td>\n",
              "      <td>0.0</td>\n",
              "      <td>0.0</td>\n",
              "      <td>0.0</td>\n",
              "      <td>4</td>\n",
              "    </tr>\n",
              "    <tr>\n",
              "      <th>3</th>\n",
              "      <td>0.0</td>\n",
              "      <td>0.0</td>\n",
              "      <td>0.0</td>\n",
              "      <td>0.0</td>\n",
              "      <td>0.0</td>\n",
              "      <td>0.0</td>\n",
              "      <td>0.0</td>\n",
              "      <td>0.0</td>\n",
              "      <td>0.0</td>\n",
              "      <td>0.0</td>\n",
              "      <td>...</td>\n",
              "      <td>0.0</td>\n",
              "      <td>0.0</td>\n",
              "      <td>0.0</td>\n",
              "      <td>0.0</td>\n",
              "      <td>0.0</td>\n",
              "      <td>0.0</td>\n",
              "      <td>0.0</td>\n",
              "      <td>0.0</td>\n",
              "      <td>0.0</td>\n",
              "      <td>1</td>\n",
              "    </tr>\n",
              "    <tr>\n",
              "      <th>4</th>\n",
              "      <td>0.0</td>\n",
              "      <td>0.0</td>\n",
              "      <td>0.0</td>\n",
              "      <td>0.0</td>\n",
              "      <td>0.0</td>\n",
              "      <td>0.0</td>\n",
              "      <td>0.0</td>\n",
              "      <td>0.0</td>\n",
              "      <td>0.0</td>\n",
              "      <td>0.0</td>\n",
              "      <td>...</td>\n",
              "      <td>0.0</td>\n",
              "      <td>0.0</td>\n",
              "      <td>0.0</td>\n",
              "      <td>0.0</td>\n",
              "      <td>0.0</td>\n",
              "      <td>0.0</td>\n",
              "      <td>0.0</td>\n",
              "      <td>0.0</td>\n",
              "      <td>0.0</td>\n",
              "      <td>9</td>\n",
              "    </tr>\n",
              "  </tbody>\n",
              "</table>\n",
              "<p>5 rows × 785 columns</p>\n",
              "</div>\n",
              "      <button class=\"colab-df-convert\" onclick=\"convertToInteractive('df-8474ca5f-632b-47ce-a3df-1580f6c8f61f')\"\n",
              "              title=\"Convert this dataframe to an interactive table.\"\n",
              "              style=\"display:none;\">\n",
              "        \n",
              "  <svg xmlns=\"http://www.w3.org/2000/svg\" height=\"24px\"viewBox=\"0 0 24 24\"\n",
              "       width=\"24px\">\n",
              "    <path d=\"M0 0h24v24H0V0z\" fill=\"none\"/>\n",
              "    <path d=\"M18.56 5.44l.94 2.06.94-2.06 2.06-.94-2.06-.94-.94-2.06-.94 2.06-2.06.94zm-11 1L8.5 8.5l.94-2.06 2.06-.94-2.06-.94L8.5 2.5l-.94 2.06-2.06.94zm10 10l.94 2.06.94-2.06 2.06-.94-2.06-.94-.94-2.06-.94 2.06-2.06.94z\"/><path d=\"M17.41 7.96l-1.37-1.37c-.4-.4-.92-.59-1.43-.59-.52 0-1.04.2-1.43.59L10.3 9.45l-7.72 7.72c-.78.78-.78 2.05 0 2.83L4 21.41c.39.39.9.59 1.41.59.51 0 1.02-.2 1.41-.59l7.78-7.78 2.81-2.81c.8-.78.8-2.07 0-2.86zM5.41 20L4 18.59l7.72-7.72 1.47 1.35L5.41 20z\"/>\n",
              "  </svg>\n",
              "      </button>\n",
              "      \n",
              "  <style>\n",
              "    .colab-df-container {\n",
              "      display:flex;\n",
              "      flex-wrap:wrap;\n",
              "      gap: 12px;\n",
              "    }\n",
              "\n",
              "    .colab-df-convert {\n",
              "      background-color: #E8F0FE;\n",
              "      border: none;\n",
              "      border-radius: 50%;\n",
              "      cursor: pointer;\n",
              "      display: none;\n",
              "      fill: #1967D2;\n",
              "      height: 32px;\n",
              "      padding: 0 0 0 0;\n",
              "      width: 32px;\n",
              "    }\n",
              "\n",
              "    .colab-df-convert:hover {\n",
              "      background-color: #E2EBFA;\n",
              "      box-shadow: 0px 1px 2px rgba(60, 64, 67, 0.3), 0px 1px 3px 1px rgba(60, 64, 67, 0.15);\n",
              "      fill: #174EA6;\n",
              "    }\n",
              "\n",
              "    [theme=dark] .colab-df-convert {\n",
              "      background-color: #3B4455;\n",
              "      fill: #D2E3FC;\n",
              "    }\n",
              "\n",
              "    [theme=dark] .colab-df-convert:hover {\n",
              "      background-color: #434B5C;\n",
              "      box-shadow: 0px 1px 3px 1px rgba(0, 0, 0, 0.15);\n",
              "      filter: drop-shadow(0px 1px 2px rgba(0, 0, 0, 0.3));\n",
              "      fill: #FFFFFF;\n",
              "    }\n",
              "  </style>\n",
              "\n",
              "      <script>\n",
              "        const buttonEl =\n",
              "          document.querySelector('#df-8474ca5f-632b-47ce-a3df-1580f6c8f61f button.colab-df-convert');\n",
              "        buttonEl.style.display =\n",
              "          google.colab.kernel.accessAllowed ? 'block' : 'none';\n",
              "\n",
              "        async function convertToInteractive(key) {\n",
              "          const element = document.querySelector('#df-8474ca5f-632b-47ce-a3df-1580f6c8f61f');\n",
              "          const dataTable =\n",
              "            await google.colab.kernel.invokeFunction('convertToInteractive',\n",
              "                                                     [key], {});\n",
              "          if (!dataTable) return;\n",
              "\n",
              "          const docLinkHtml = 'Like what you see? Visit the ' +\n",
              "            '<a target=\"_blank\" href=https://colab.research.google.com/notebooks/data_table.ipynb>data table notebook</a>'\n",
              "            + ' to learn more about interactive tables.';\n",
              "          element.innerHTML = '';\n",
              "          dataTable['output_type'] = 'display_data';\n",
              "          await google.colab.output.renderOutput(dataTable, element);\n",
              "          const docLink = document.createElement('div');\n",
              "          docLink.innerHTML = docLinkHtml;\n",
              "          element.appendChild(docLink);\n",
              "        }\n",
              "      </script>\n",
              "    </div>\n",
              "  </div>\n",
              "  "
            ]
          },
          "metadata": {},
          "execution_count": 2
        }
      ]
    },
    {
      "cell_type": "code",
      "source": [
        "import matplotlib.pyplot as plt\n",
        "\n",
        "for i in range(6):\n",
        "  plt.imshow(X[i].reshape((28,28)), cmap= 'gray')\n",
        "  plt.show()"
      ],
      "metadata": {
        "colab": {
          "base_uri": "https://localhost:8080/",
          "height": 1000
        },
        "id": "VGSNOGcuet3r",
        "outputId": "959ecb83-b72e-4e7b-b806-99b02aa09df8"
      },
      "execution_count": null,
      "outputs": [
        {
          "output_type": "display_data",
          "data": {
            "text/plain": [
              "<Figure size 432x288 with 1 Axes>"
            ],
            "image/png": "[encoded data removed]"
          },
          "metadata": {
            "needs_background": "light"
          }
        },
        {
          "output_type": "display_data",
          "data": {
            "text/plain": [
              "<Figure size 432x288 with 1 Axes>"
            ],
            "image/png": "[encoded data removed]"
          },
          "metadata": {
            "needs_background": "light"
          }
        },
        {
          "output_type": "display_data",
          "data": {
            "text/plain": [
              "<Figure size 432x288 with 1 Axes>"
            ],
            "image/png": "[encoded data removed]"
          },
          "metadata": {
            "needs_background": "light"
          }
        },
        {
          "output_type": "display_data",
          "data": {
            "text/plain": [
              "<Figure size 432x288 with 1 Axes>"
            ],
            "image/png": "[encoded data removed]"
          },
          "metadata": {
            "needs_background": "light"
          }
        },
        {
          "output_type": "display_data",
          "data": {
            "text/plain": [
              "<Figure size 432x288 with 1 Axes>"
            ],
            "image/png": "[encoded data removed]"
          },
          "metadata": {
            "needs_background": "light"
          }
        },
        {
          "output_type": "display_data",
          "data": {
            "text/plain": [
              "<Figure size 432x288 with 1 Axes>"
            ],
            "image/png": "[encoded data removed]"
          },
          "metadata": {
            "needs_background": "light"
          }
        }
      ]
    },
    {
      "cell_type": "code",
      "source": [
        "from sklearn.neural_network import MLPClassifier\n",
        "\n",
        "mlp = MLPClassifier(hidden_layer_sizes = 1, activation='logistic')\n",
        "mlp1 = MLPClassifier(hidden_layer_sizes = 100, activation='logistic')\n",
        "mlp2 = MLPClassifier(hidden_layer_sizes = 1000, activation='logistic')"
      ],
      "metadata": {
        "id": "JduU8wD9fJCU"
      },
      "execution_count": null,
      "outputs": []
    },
    {
      "cell_type": "code",
      "source": [
        "mlp.fit(X_train, y_train)\n",
        "mlp1.fit(X_train, y_train)\n",
        "mlp2.fit(X_train, y_train)"
      ],
      "metadata": {
        "colab": {
          "base_uri": "https://localhost:8080/"
        },
        "id": "-HpnBniSf1mC",
        "outputId": "18081987-bce2-45a4-9bed-182c8e5c388b"
      },
      "execution_count": null,
      "outputs": [
        {
          "output_type": "stream",
          "name": "stderr",
          "text": [
            "/usr/local/lib/python3.8/dist-packages/sklearn/neural_network/_multilayer_perceptron.py:692: ConvergenceWarning: Stochastic Optimizer: Maximum iterations (200) reached and the optimization hasn't converged yet.\n",
            "  warnings.warn(\n"
          ]
        },
        {
          "output_type": "execute_result",
          "data": {
            "text/plain": [
              "MLPClassifier(activation='logistic', hidden_layer_sizes=1000)"
            ]
          },
          "metadata": {},
          "execution_count": 6
        }
      ]
    },
    {
      "cell_type": "code",
      "source": [
        "pred_NN = mlp.predict(X_test)\n",
        "pred_NN"
      ],
      "metadata": {
        "colab": {
          "base_uri": "https://localhost:8080/"
        },
        "id": "XdlvaIgOi3CC",
        "outputId": "0dd05db7-648f-4380-8128-b52bbda66e15"
      },
      "execution_count": null,
      "outputs": [
        {
          "output_type": "execute_result",
          "data": {
            "text/plain": [
              "array(['2', '4', '3', ..., '8', '1', '8'], dtype='<U1')"
            ]
          },
          "metadata": {},
          "execution_count": 7
        }
      ]
    },
    {
      "cell_type": "code",
      "source": [
        "pred1_NN = mlp1.predict(X_test)\n",
        "pred1_NN"
      ],
      "metadata": {
        "colab": {
          "base_uri": "https://localhost:8080/"
        },
        "id": "iNpT-NwMjcMC",
        "outputId": "307cd980-afa6-4d10-bb3d-1e0a700ed4a4"
      },
      "execution_count": null,
      "outputs": [
        {
          "output_type": "execute_result",
          "data": {
            "text/plain": [
              "array(['0', '4', '1', ..., '8', '3', '9'], dtype='<U1')"
            ]
          },
          "metadata": {},
          "execution_count": 8
        }
      ]
    },
    {
      "cell_type": "code",
      "source": [
        "pred2_NN = mlp2.predict(X_test)\n",
        "pred2_NN"
      ],
      "metadata": {
        "colab": {
          "base_uri": "https://localhost:8080/"
        },
        "id": "NVDt1mlMjcgC",
        "outputId": "7059c256-30dc-4e27-df53-699a2fc774b8"
      },
      "execution_count": null,
      "outputs": [
        {
          "output_type": "execute_result",
          "data": {
            "text/plain": [
              "array(['0', '4', '1', ..., '8', '3', '9'], dtype='<U1')"
            ]
          },
          "metadata": {},
          "execution_count": 9
        }
      ]
    },
    {
      "cell_type": "code",
      "source": [
        "print(f'Actual value {y_test[2]}')\n",
        "print(f'predicted value for 1 hidden layer: {pred_NN[2]}')\n",
        "print(f'predicted value for 100 hidden layer: {pred1_NN[2]}')\n",
        "print(f'predicted value for 1000 hidden layer: {pred2_NN[2]}')\n",
        "\n",
        "plt.imshow(X_test[2].reshape((28,28)), cmap='gray')\n",
        "plt.show()\n"
      ],
      "metadata": {
        "colab": {
          "base_uri": "https://localhost:8080/",
          "height": 334
        },
        "id": "ohct37DAjpmf",
        "outputId": "4ebc8caa-3894-4a56-d9df-46c17f8714ea"
      },
      "execution_count": null,
      "outputs": [
        {
          "output_type": "stream",
          "name": "stdout",
          "text": [
            "Actual value 1\n",
            "predicted value for 1 hidden layer: 3\n",
            "predicted value for 100 hidden layer: 1\n",
            "predicted value for 1000 hidden layer: 1\n"
          ]
        },
        {
          "output_type": "display_data",
          "data": {
            "text/plain": [
              "<Figure size 432x288 with 1 Axes>"
            ],
            "image/png": "[encoded data removed]"
          },
          "metadata": {
            "needs_background": "light"
          }
        }
      ]
    },
    {
      "cell_type": "code",
      "source": [
        "from sklearn.metrics import confusion_matrix\n",
        "print(\"**********confusion matrix for 1 hidden layer**************\")\n",
        "print(confusion_matrix(y_test, pred_NN))\n",
        "\n",
        "print(\"\\n**********confusion matrix for 100 hidden layer**************\")\n",
        "print(confusion_matrix(y_test, pred1_NN))\n",
        "\n",
        "print(\"\\n**********confusion matrix for 1000 hidden layer**************\")\n",
        "print(confusion_matrix(y_test, pred2_NN))"
      ],
      "metadata": {
        "colab": {
          "base_uri": "https://localhost:8080/"
        },
        "id": "fnSy4ZA9lGNY",
        "outputId": "3f32f0b5-2027-498a-ed0b-cd8c5589656c"
      },
      "execution_count": null,
      "outputs": [
        {
          "output_type": "stream",
          "name": "stdout",
          "text": [
            "**********confusion matrix for 1 hidden layer**************\n",
            "[[   0  658 1018   95   11    0 3073   14   42    0]\n",
            " [   0 4343   87  730   55    0  120   33  176    0]\n",
            " [   0  849  709  160   48    0 3017   32   81    0]\n",
            " [   0 1218  160 1448  228    0  323  422 1187    0]\n",
            " [   0  102   13   94 1829    0   28 2392  310    0]\n",
            " [   0  770  107  992  580    0  152  445 1338    0]\n",
            " [   0  220  203   52   10    0 4269    2   24    0]\n",
            " [   0   47    6   45  137    0    6 4763   68    0]\n",
            " [   0  766   54 1241  548    0   49  414 1685    0]\n",
            " [   0   23    9   35  242    0    9 4481  103    0]]\n",
            "\n",
            "**********confusion matrix for 100 hidden layer**************\n",
            "[[4800    1   11    7    9   17   30    5   28    3]\n",
            " [   1 5470   22    8    4    2    2   11   13   11]\n",
            " [  16    9 4728   19   34    1   16   32   36    5]\n",
            " [  13   10   78 4684    2   85    7   24   61   22]\n",
            " [   2   12   19    2 4610    5   23    8   10   77]\n",
            " [  19    6   19   71   16 4138   47   10   31   27]\n",
            " [  23   10   27    4   28   25 4642    4   17    0]\n",
            " [   6   17   42    6   29    6    0 4924    6   36]\n",
            " [  25   34   22   30   13   37   28    6 4537   25]\n",
            " [  23   13    6   31   77   21    1   61   26 4643]]\n",
            "\n",
            "**********confusion matrix for 1000 hidden layer**************\n",
            "[[4806    2   10    8    6   15   26    5   21   12]\n",
            " [   1 5464   26   12    6    1    5   10   11    8]\n",
            " [  11    8 4743   22   34    2   11   35   26    4]\n",
            " [   6   10   55 4772    3   48    4   21   48   19]\n",
            " [   5   11   14    3 4622    2   13   12    7   79]\n",
            " [  15    5   10   51    8 4208   35    8   27   17]\n",
            " [  16    8   15    5   13   19 4679    9   16    0]\n",
            " [   0   16   38   12   34    2    0 4932    6   32]\n",
            " [  17   27   19   32   13   30   20    2 4575   22]\n",
            " [  15    9    1   35   59   19    3   65   17 4679]]\n"
          ]
        }
      ]
    },
    {
      "cell_type": "code",
      "source": [
        "from sklearn.metrics import classification_report\n",
        "print(\"**********classification report for 1 hidden layer**************\")\n",
        "print(classification_report(y_test, pred_NN))\n",
        "\n",
        "print(\"\\n\\n**********classification report for 100 hidden layer**************\")\n",
        "print(classification_report(y_test, pred1_NN))\n",
        "\n",
        "print(\"\\n\\n**********classification report for 1000 hidden layer**************\")\n",
        "print(classification_report(y_test, pred2_NN))"
      ],
      "metadata": {
        "colab": {
          "base_uri": "https://localhost:8080/"
        },
        "id": "XW9GzQVmlpFk",
        "outputId": "d8b7f940-312d-4d2e-ad47-635ea308562d"
      },
      "execution_count": null,
      "outputs": [
        {
          "output_type": "stream",
          "name": "stdout",
          "text": [
            "**********classification report for 1 hidden layer**************\n"
          ]
        },
        {
          "output_type": "stream",
          "name": "stderr",
          "text": [
            "/usr/local/lib/python3.8/dist-packages/sklearn/metrics/_classification.py:1318: UndefinedMetricWarning: Precision and F-score are ill-defined and being set to 0.0 in labels with no predicted samples. Use `zero_division` parameter to control this behavior.\n",
            "  _warn_prf(average, modifier, msg_start, len(result))\n",
            "/usr/local/lib/python3.8/dist-packages/sklearn/metrics/_classification.py:1318: UndefinedMetricWarning: Precision and F-score are ill-defined and being set to 0.0 in labels with no predicted samples. Use `zero_division` parameter to control this behavior.\n",
            "  _warn_prf(average, modifier, msg_start, len(result))\n",
            "/usr/local/lib/python3.8/dist-packages/sklearn/metrics/_classification.py:1318: UndefinedMetricWarning: Precision and F-score are ill-defined and being set to 0.0 in labels with no predicted samples. Use `zero_division` parameter to control this behavior.\n",
            "  _warn_prf(average, modifier, msg_start, len(result))\n"
          ]
        },
        {
          "output_type": "stream",
          "name": "stdout",
          "text": [
            "              precision    recall  f1-score   support\n",
            "\n",
            "           0       0.00      0.00      0.00      4911\n",
            "           1       0.48      0.78      0.60      5544\n",
            "           2       0.30      0.14      0.20      4896\n",
            "           3       0.30      0.29      0.29      4986\n",
            "           4       0.50      0.38      0.43      4768\n",
            "           5       0.00      0.00      0.00      4384\n",
            "           6       0.39      0.89      0.54      4780\n",
            "           7       0.37      0.94      0.53      5072\n",
            "           8       0.34      0.35      0.34      4757\n",
            "           9       0.00      0.00      0.00      4902\n",
            "\n",
            "    accuracy                           0.39     49000\n",
            "   macro avg       0.27      0.38      0.29     49000\n",
            "weighted avg       0.27      0.39      0.30     49000\n",
            "\n",
            "\n",
            "\n",
            "**********classification report for 100 hidden layer**************\n",
            "              precision    recall  f1-score   support\n",
            "\n",
            "           0       0.97      0.98      0.98      4911\n",
            "           1       0.98      0.99      0.98      5544\n",
            "           2       0.95      0.97      0.96      4896\n",
            "           3       0.96      0.94      0.95      4986\n",
            "           4       0.96      0.97      0.96      4768\n",
            "           5       0.95      0.94      0.95      4384\n",
            "           6       0.97      0.97      0.97      4780\n",
            "           7       0.97      0.97      0.97      5072\n",
            "           8       0.95      0.95      0.95      4757\n",
            "           9       0.96      0.95      0.95      4902\n",
            "\n",
            "    accuracy                           0.96     49000\n",
            "   macro avg       0.96      0.96      0.96     49000\n",
            "weighted avg       0.96      0.96      0.96     49000\n",
            "\n",
            "\n",
            "\n",
            "**********classification report for 1000 hidden layer**************\n",
            "              precision    recall  f1-score   support\n",
            "\n",
            "           0       0.98      0.98      0.98      4911\n",
            "           1       0.98      0.99      0.98      5544\n",
            "           2       0.96      0.97      0.97      4896\n",
            "           3       0.96      0.96      0.96      4986\n",
            "           4       0.96      0.97      0.97      4768\n",
            "           5       0.97      0.96      0.96      4384\n",
            "           6       0.98      0.98      0.98      4780\n",
            "           7       0.97      0.97      0.97      5072\n",
            "           8       0.96      0.96      0.96      4757\n",
            "           9       0.96      0.95      0.96      4902\n",
            "\n",
            "    accuracy                           0.97     49000\n",
            "   macro avg       0.97      0.97      0.97     49000\n",
            "weighted avg       0.97      0.97      0.97     49000\n",
            "\n"
          ]
        }
      ]
    }
  ]
}